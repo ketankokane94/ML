{
 "cells": [
  {
   "cell_type": "code",
   "execution_count": null,
   "metadata": {
    "collapsed": true,
    "scrolled": true
   },
   "outputs": [],
   "source": [
    "global sal\n",
    "sal = pd.read_csv('sample.csv',encoding = 'ISO-8859-1')"
   ]
  },
  {
   "cell_type": "markdown",
   "metadata": {},
   "source": [
    "ProcessDataset(dataset=None,Predict=None,Predictors=None,CreateNLPFeatureFrom=None)"
   ]
  },
  {
   "cell_type": "code",
   "execution_count": null,
   "metadata": {},
   "outputs": [],
   "source": [
    "sal.head()"
   ]
  },
  {
   "cell_type": "code",
   "execution_count": null,
   "metadata": {
    "collapsed": true
   },
   "outputs": [],
   "source": [
    "DropColumn([])\n",
    "#PrintDistribution(columnList=['gross_income'])"
   ]
  },
  {
   "cell_type": "code",
   "execution_count": null,
   "metadata": {
    "scrolled": false
   },
   "outputs": [],
   "source": [
    "rowCountList={}\n",
    "ProcessDataset(Predict=None,Predictors=None,CreateNLPFeatureFrom=None)"
   ]
  },
  {
   "cell_type": "code",
   "execution_count": null,
   "metadata": {},
   "outputs": [],
   "source": [
    "PrintDistribution(['customer_sex'])"
   ]
  },
  {
   "cell_type": "code",
   "execution_count": null,
   "metadata": {
    "collapsed": true
   },
   "outputs": [],
   "source": [
    "sal['']"
   ]
  },
  {
   "cell_type": "code",
   "execution_count": null,
   "metadata": {
    "collapsed": true
   },
   "outputs": [],
   "source": [
    "DropColumn(['X_DESCRIPTION','CREATED','NAME'])"
   ]
  },
  {
   "cell_type": "code",
   "execution_count": null,
   "metadata": {
    "collapsed": true,
    "scrolled": false
   },
   "outputs": [],
   "source": [
    "PrintDistribution(['ratings'])"
   ]
  },
  {
   "cell_type": "code",
   "execution_count": null,
   "metadata": {
    "scrolled": false
   },
   "outputs": [],
   "source": []
  },
  {
   "cell_type": "code",
   "execution_count": null,
   "metadata": {
    "scrolled": true
   },
   "outputs": [],
   "source": [
    "import pandas as pd\n",
    "import matplotlib.pyplot as plt\n",
    "from plotly import __version__\n",
    "from plotly.offline import download_plotlyjs, init_notebook_mode, plot, iplot\n",
    "from textblob import TextBlob\n",
    "import operator\n",
    "import cufflinks as cf\n",
    "init_notebook_mode(connected=True)\n",
    "cf.go_offline()\n",
    "import seaborn as sns\n",
    "sns.set(color_codes=True)\n",
    "%matplotlib inline\n",
    "\n",
    "\n",
    "\n",
    "def printData():\n",
    "    pd.DataFrame(rowCountList,index=[0]).iplot(kind='bar',title='Percentage Unique Values')\n",
    "    sal.corr().iplot()\n",
    "\n",
    "def calculcateNullCOlumns():\n",
    "    if len(sal.isnull().sum().nonzero()) > 0:\n",
    "        sal.isnull().sum().iplot(kind='bar',title='NULL Values')\n",
    "\n",
    "def SeeDistributionOfLabel(Predict,Predictors):\n",
    "    #this can be imporved \n",
    "    sorted_x = sorted(rowCountList.items(), key=operator.itemgetter(1))[-2:]\n",
    "    if Predictors!= None:\n",
    "        sal.groupby(Predict).count()[Predictors].iplot(kind='bar')\n",
    "    else:\n",
    "        sal.groupby(Predict).count()[[sorted_x[0][0],sorted_x[1][0]]].iplot(kind='bar')\n",
    "        \n",
    "\n",
    "def explainData():\n",
    "    global rowCountList \n",
    "    for col in sal.columns:\n",
    "        rowCount = sal[col].count()\n",
    "        if rowCount!=0:\n",
    "            rowCountList[col]=(len(set(sal[col].unique()))/rowCount)*100\n",
    "        else:\n",
    "            rowCountList[col]=0\n",
    "\n",
    "            \n",
    "def ProcessDataset(dataset=None,Predict=None,Predictors=None,CreateNLPFeatureFrom=None):\n",
    "    sal.info()\n",
    "    explainData()\n",
    "    printData()\n",
    "    calculcateNullCOlumns()\n",
    "    if Predict != None:\n",
    "        SeeDistributionOfLabel(Predict,Predictors)\n",
    "    if CreateNLPFeatureFrom != None:\n",
    "        sal['sentimentOf{}'.format(CreateNLPFeatureFrom)] = sal.apply (lambda row: BuildASentimentFeature (row[CreateNLPFeatureFrom]),axis=1)\n",
    "        sns.countplot(x='sentimentOf{}'.format(CreateNLPFeatureFrom),data=sal)\n",
    "\n",
    "        \n",
    "def BuildASentimentFeature(text):\n",
    "    text = TextBlob(text)\n",
    "    if text.sentiment.polarity > 0:\n",
    "        return \"Positive\"\n",
    "    elif text.sentiment.polarity < 0:\n",
    "        return \"Negative\"\n",
    "    else:\n",
    "        return \"Neutral\"\n",
    "\n",
    "    \n",
    "def DropColumn(columnList=None):\n",
    "    if columnList != None:\n",
    "        sal.drop(columnList,axis=1,inplace=True)\n",
    "        \n",
    "def PrintDistribution(columnList=None):\n",
    "    if columnList != None:\n",
    "        for column in columnList:\n",
    "            a4_dims = (14.7, 10.27)\n",
    "            fig, ax = plt.subplots(figsize=a4_dims)\n",
    "            sns.distplot(sal[column].dropna(),ax=ax)\n",
    "            print(sal[column].value_counts(dropna=True).head())\n",
    "            \n",
    "\n",
    "def BulkDropColumnsBeyoundAThresh(thresh=0):   \n",
    "    for c in sal:\n",
    "        if sum(sal[c].isnull()) >= thresh:\n",
    "            DropColumn(c)\n",
    "\n",
    "def EncodeObjectAttributes():\n",
    "    from sklearn import preprocessing\n",
    "    for ml in list(sal.select_dtypes(include=['object']).columns):\n",
    "        le = preprocessing.LabelEncoder()\n",
    "        le.fit(sal[ml])\n",
    "        sal[ml] = le.transform(sal[ml])\n",
    "        \n",
    "def FillNullValueWithMode():\n",
    "    sal[list(sal)]=sal[list(sal)].fillna(sal.mode().iloc[0])"
   ]
  },
  {
   "cell_type": "code",
   "execution_count": null,
   "metadata": {
    "collapsed": true
   },
   "outputs": [],
   "source": [
    "rowCountList={}\n",
    "ProcessDataset(Predict=None,Predictors=None,CreateNLPFeatureFrom=None)"
   ]
  },
  {
   "cell_type": "code",
   "execution_count": null,
   "metadata": {
    "collapsed": true,
    "scrolled": true
   },
   "outputs": [],
   "source": [
    "Predict('Sex')\n"
   ]
  },
  {
   "cell_type": "code",
   "execution_count": null,
   "metadata": {
    "collapsed": true
   },
   "outputs": [],
   "source": [
    "Predict2('Parch')"
   ]
  },
  {
   "cell_type": "code",
   "execution_count": null,
   "metadata": {
    "collapsed": true
   },
   "outputs": [],
   "source": [
    "def Predict(Col=None):\n",
    "    from sklearn.cross_validation import train_test_split\n",
    "    from sklearn.tree import DecisionTreeClassifier\n",
    "    from sklearn.metrics import classification_report,confusion_matrix\n",
    "    X = sal.drop(Col,axis=1)\n",
    "    y = sal[Col]\n",
    "    X_train, X_test, y_train, y_test = train_test_split(X, y, test_size=0.30)\n",
    "    dtree = DecisionTreeClassifier()\n",
    "    dtree.fit(X_train,y_train)\n",
    "    predictions = dtree.predict(X_test)\n",
    "    print(confusion_matrix(y_test,predictions))\n",
    "    print('\\n')\n",
    "    print(classification_report(y_test,predictions))\n"
   ]
  },
  {
   "cell_type": "code",
   "execution_count": null,
   "metadata": {
    "collapsed": true
   },
   "outputs": [],
   "source": [
    "def Predict2(col=None):\n",
    "    from sklearn.cross_validation import train_test_split\n",
    "    from sklearn.ensemble import RandomForestClassifier\n",
    "    from sklearn.metrics import classification_report,confusion_matrix\n",
    "    X = sal.drop(col,axis=1)\n",
    "    y = sal[col]\n",
    "    X_train, X_test, y_train, y_test = train_test_split(X, y, test_size=0.30)\n",
    "    rfc = RandomForestClassifier(n_estimators=100)\n",
    "    rfc.fit(X_train,y_train)\n",
    "    rfc_pred = rfc.predict(X_test)\n",
    "    print(confusion_matrix(y_test,rfc_pred))\n",
    "    print('\\n')\n",
    "    print(classification_report(y_test,rfc_pred))"
   ]
  },
  {
   "cell_type": "code",
   "execution_count": null,
   "metadata": {
    "collapsed": true
   },
   "outputs": [],
   "source": [
    "BulkDropColumnsBeyoundAThresh(thresh=17000)"
   ]
  },
  {
   "cell_type": "code",
   "execution_count": null,
   "metadata": {
    "collapsed": true
   },
   "outputs": [],
   "source": [
    "FillNullValueWithMode()"
   ]
  },
  {
   "cell_type": "code",
   "execution_count": null,
   "metadata": {
    "collapsed": true
   },
   "outputs": [],
   "source": [
    "EncodeObjectAttributes()"
   ]
  },
  {
   "cell_type": "code",
   "execution_count": null,
   "metadata": {
    "collapsed": true
   },
   "outputs": [],
   "source": [
    "     "
   ]
  },
  {
   "cell_type": "code",
   "execution_count": 1,
   "metadata": {
    "collapsed": true
   },
   "outputs": [],
   "source": []
  },
  {
   "cell_type": "code",
   "execution_count": null,
   "metadata": {
    "collapsed": true
   },
   "outputs": [],
   "source": []
  },
  {
   "cell_type": "code",
   "execution_count": null,
   "metadata": {
    "collapsed": true
   },
   "outputs": [],
   "source": []
  },
  {
   "cell_type": "code",
   "execution_count": null,
   "metadata": {},
   "outputs": [],
   "source": []
  },
  {
   "cell_type": "code",
   "execution_count": null,
   "metadata": {},
   "outputs": [],
   "source": []
  },
  {
   "cell_type": "code",
   "execution_count": null,
   "metadata": {
    "collapsed": true
   },
   "outputs": [],
   "source": []
  }
 ],
 "metadata": {
  "kernelspec": {
   "display_name": "Python 3",
   "language": "python",
   "name": "python3"
  },
  "language_info": {
   "codemirror_mode": {
    "name": "ipython",
    "version": 3
   },
   "file_extension": ".py",
   "mimetype": "text/x-python",
   "name": "python",
   "nbconvert_exporter": "python",
   "pygments_lexer": "ipython3",
   "version": "3.6.3"
  }
 },
 "nbformat": 4,
 "nbformat_minor": 2
}
