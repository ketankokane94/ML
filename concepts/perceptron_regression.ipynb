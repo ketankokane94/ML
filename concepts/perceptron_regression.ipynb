{
 "cells": [
  {
   "cell_type": "code",
   "execution_count": 86,
   "metadata": {},
   "outputs": [],
   "source": [
    "import numpy as np \n",
    "import matplotlib.pyplot as plt\n",
    "%matplotlib inline\n",
    "from sklearn.model_selection import train_test_split\n",
    "\n",
    "def generate_dataset(size):\n",
    "    x = np.arange(size)\n",
    "    noice = np.random.uniform(-5,5,size)\n",
    "    y = 0.4 * x + noice\n",
    "    return x, y\n",
    "\n",
    "class Perceptron:\n",
    "    def __init__(self,params, epochs, learning_rate = 0.000001):\n",
    "        self.params = params\n",
    "        self.learning_rate = learning_rate\n",
    "        self.epochs = epochs\n",
    "        self.COST = []\n",
    "    \n",
    "    def fit(self, X, Y):\n",
    "        self.COST = []\n",
    "        for _ in range(self.epochs): \n",
    "            for idx in range(len(X)):\n",
    "                x = X[idx]\n",
    "                y = Y[idx]\n",
    "                z = self.summation(x)\n",
    "                predicted_value = self.process_z(z)\n",
    "                self.update_params(predicted_value, y,x)\n",
    "                self.COST.append(self.cost(X, Y))\n",
    "    \n",
    "    def print_cost(self):\n",
    "        plt.plot(self.COST)\n",
    "    \n",
    "    def update_params(self,predicted , actual,x):\n",
    "        gradient = self.get_gradient(predicted, actual)\n",
    "        self.params = self.params - self.learning_rate*gradient*x\n",
    "    \n",
    "    def get_gradient(self, predicted, actual):\n",
    "        return np.mean((predicted - actual))\n",
    "    \n",
    "    def process_z(self, z):\n",
    "        return z\n",
    "    \n",
    "    def summation(self,  x):\n",
    "        z = np.dot(x,self.params)\n",
    "        return z\n",
    "    \n",
    "    def error(self):\n",
    "        pass\n",
    "    \n",
    "    def cost(self,x,y):\n",
    "        z = self.summation(x)\n",
    "        z = self.process_z(z)\n",
    "        \n",
    "        # MSE\n",
    "        return np.mean(np.square(z - y))\n",
    "        \n",
    "        \n",
    "    "
   ]
  },
  {
   "cell_type": "code",
   "execution_count": 78,
   "metadata": {},
   "outputs": [],
   "source": [
    "import pandas as pd\n",
    "data = pd.read_csv('Frogs-subsample.csv')\n",
    "sp = {'HylaMinuta':0, 'HypsiboasCinerascens':1}\n",
    "data = data.replace(sp)"
   ]
  },
  {
   "cell_type": "code",
   "execution_count": 79,
   "metadata": {},
   "outputs": [],
   "source": [
    "x = np.array(data[['MFCCs_10', 'MFCCs_17']])\n",
    "y = np.array(data['Species'])"
   ]
  },
  {
   "cell_type": "code",
   "execution_count": 73,
   "metadata": {},
   "outputs": [
    {
     "data": {
      "text/plain": [
       "(2,)"
      ]
     },
     "execution_count": 73,
     "metadata": {},
     "output_type": "execute_result"
    }
   ],
   "source": []
  },
  {
   "cell_type": "code",
   "execution_count": 85,
   "metadata": {},
   "outputs": [
    {
     "data": {
      "image/png": "[encoded data removed]",
      "text/plain": [
       "<Figure size 432x288 with 1 Axes>"
      ]
     },
     "metadata": {
      "needs_background": "light"
     },
     "output_type": "display_data"
    }
   ],
   "source": [
    "p = Perceptron(np.random.rand(2), 8000, 0.000001)\n",
    "p.fit(x, y)\n",
    "p.print_cost()"
   ]
  },
  {
   "cell_type": "code",
   "execution_count": 71,
   "metadata": {},
   "outputs": [
    {
     "data": {
      "text/plain": [
       "array([0.76010372, 0.760404  ])"
      ]
     },
     "execution_count": 71,
     "metadata": {},
     "output_type": "execute_result"
    }
   ],
   "source": [
    "p.params"
   ]
  },
  {
   "cell_type": "code",
   "execution_count": null,
   "metadata": {},
   "outputs": [],
   "source": []
  }
 ],
 "metadata": {
  "kernelspec": {
   "display_name": "Python 3",
   "language": "python",
   "name": "python3"
  },
  "language_info": {
   "codemirror_mode": {
    "name": "ipython",
    "version": 3
   },
   "file_extension": ".py",
   "mimetype": "text/x-python",
   "name": "python",
   "nbconvert_exporter": "python",
   "pygments_lexer": "ipython3",
   "version": "3.7.4"
  }
 },
 "nbformat": 4,
 "nbformat_minor": 4
}
